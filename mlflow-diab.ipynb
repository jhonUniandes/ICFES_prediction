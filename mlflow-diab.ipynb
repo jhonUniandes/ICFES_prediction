{
 "cells": [
  {
   "cell_type": "code",
   "execution_count": 1,
   "metadata": {
    "application/vnd.databricks.v1+cell": {
     "cellMetadata": {},
     "inputWidgets": {},
     "nuid": "1a7347f0-735a-44c2-802f-f886f73e9e8a",
     "showTitle": false,
     "title": ""
    }
   },
   "outputs": [
    {
     "name": "stderr",
     "output_type": "stream",
     "text": [
      "INFO:numexpr.utils:NumExpr defaulting to 8 threads.\n"
     ]
    }
   ],
   "source": [
    "# Importe el conjunto de datos de diabetes y divídalo en entrenamiento y prueba usando scikit-learn\n",
    "from sklearn.model_selection import train_test_split\n",
    "from sklearn.datasets import load_diabetes\n",
    "\n",
    "from pgmpy.estimators import HillClimbSearch\n",
    "from pgmpy.estimators import K2Score\n",
    "import pandas as pd\n",
    "\n",
    "from infer import inferencia\n",
    "\n",
    "# db = load_diabetes()\n",
    "# X = db.data\n",
    "# y = db.target\n",
    "# X_train, X_test, y_train, y_test = train_test_split(X, y)\n",
    "\n",
    "df = pd.read_csv(\"train.csv\", sep = \";\")\n",
    "test = pd.read_csv(\"test.csv\", sep = \";\")\n",
    "df = df.drop(df.columns[0], axis = 1 )"
   ]
  },
  {
   "cell_type": "code",
   "execution_count": 6,
   "metadata": {
    "application/vnd.databricks.v1+cell": {
     "cellMetadata": {},
     "inputWidgets": {},
     "nuid": "e6f628c0-ed91-4f6b-8496-a8c8cdd3877a",
     "showTitle": false,
     "title": ""
    }
   },
   "outputs": [
    {
     "name": "stderr",
     "output_type": "stream",
     "text": [
      "2023/11/28 19:38:27 INFO mlflow.tracking.fluent: Experiment with name 'sklearn-K2' does not exist. Creating a new experiment.\n"
     ]
    },
    {
     "data": {
      "application/vnd.jupyter.widget-view+json": {
       "model_id": "2723b76339e44dfa8483bd8c16d75c81",
       "version_major": 2,
       "version_minor": 0
      },
      "text/plain": [
       "  0%|          | 0/1000 [00:00<?, ?it/s]"
      ]
     },
     "metadata": {},
     "output_type": "display_data"
    },
    {
     "name": "stdout",
     "output_type": "stream",
     "text": [
      "5293\n"
     ]
    }
   ],
   "source": [
    "#Importe MLFlow para registrar los experimentos, el regresor de bosques aleatorios y la métrica de error cuadrático medio\n",
    "import mlflow\n",
    "import mlflow.sklearn\n",
    "from sklearn.ensemble import RandomForestRegressor\n",
    "from sklearn.metrics import mean_squared_error\n",
    "from sklearn.metrics import accuracy_score\n",
    "\n",
    "# defina el servidor para llevar el registro de modelos y artefactos\n",
    "mlflow.set_tracking_uri('http://localhost:5000')\n",
    "# registre el experimento\n",
    "experiment = mlflow.set_experiment(\"sklearn-K2\")\n",
    "\n",
    "# Aquí se ejecuta MLflow sin especificar un nombre o id del experimento. MLflow los crea un experimento para este cuaderno por defecto y guarda las características del experimento y las métricas definidas. \n",
    "# Para ver el resultado de las corridas haga click en Experimentos en el menú izquierdo. \n",
    "with mlflow.start_run(experiment_id=experiment.experiment_id):\n",
    "    # # defina los parámetros del modelo\n",
    "    max_indegree = 1\n",
    "    max_iter = int(1e3)\n",
    "    # n_estimators = 400 \n",
    "    # max_depth = 12\n",
    "    # max_features = 8\n",
    "    # # Cree el modelo con los parámetros definidos y entrénelo\n",
    "    # rf = RandomForestRegressor(n_estimators = n_estimators, max_depth = max_depth, max_features = max_features)\n",
    "    # rf.fit(X_train, y_train)\n",
    "    # # Realice predicciones de prueba\n",
    "    # predictions = rf.predict(X_test)\n",
    "    scoring_method = K2Score(data=df)\n",
    "    esth = HillClimbSearch(data=df)\n",
    "    estimated_modelh = esth.estimate(\n",
    "        scoring_method=scoring_method, max_indegree=max_indegree, max_iter=max_iter\n",
    "    )\n",
    "\n",
    "    from pgmpy.models import BayesianNetwork\n",
    "    modelo = BayesianNetwork(list(estimated_modelh.edges()))\n",
    "\n",
    "    df_fit = df[list(estimated_modelh.nodes())]\n",
    "\n",
    "    from pgmpy.estimators import MaximumLikelihoodEstimator\n",
    "\n",
    "    emv = MaximumLikelihoodEstimator(model=modelo, data=df_fit)\n",
    "    modelo.fit(data=df_fit, estimator = MaximumLikelihoodEstimator) \n",
    "\n",
    "    from pgmpy.inference import VariableElimination\n",
    "\n",
    "    #Modelo de inferencia\n",
    "    infer = VariableElimination(modelo)\n",
    "\n",
    "    test_fit = test[list(estimated_modelh.nodes())]\n",
    "\n",
    "    predictions = inferencia(modelo, test_fit)\n",
    "  \n",
    "    # Registre los parámetros\n",
    "    mlflow.log_param(\"max Indegree\", max_indegree)\n",
    "    mlflow.log_param(\"max Iter\", max_iter)\n",
    "\n",
    "    # mlflow.log_param(\"num_trees\", n_estimators)\n",
    "    # mlflow.log_param(\"maxdepth\", max_depth)\n",
    "    # mlflow.log_param(\"max_feat\", max_features)\n",
    "  \n",
    "    # Registre el modelo\n",
    "    mlflow.sklearn.log_model(modelo, \"random-forest-model\")\n",
    "  \n",
    "    # Cree y registre la métrica de interés\n",
    "    y_test = test.loc[:,\"target\"]\n",
    "    accuracy = accuracy_score(y_test, predictions, normalize=False)\n",
    "    mlflow.log_metric(\"accuracy\", accuracy)\n",
    "    print(accuracy)"
   ]
  },
  {
   "cell_type": "code",
   "execution_count": null,
   "metadata": {},
   "outputs": [],
   "source": []
  }
 ],
 "metadata": {
  "application/vnd.databricks.v1+notebook": {
   "dashboards": [],
   "language": "python",
   "notebookMetadata": {
    "pythonIndentUnit": 4
   },
   "notebookName": "mlflow-diab",
   "notebookOrigID": 3350572847994945,
   "widgets": {}
  },
  "kernelspec": {
   "display_name": "Python 3 (ipykernel)",
   "language": "python",
   "name": "python3"
  },
  "language_info": {
   "codemirror_mode": {
    "name": "ipython",
    "version": 3
   },
   "file_extension": ".py",
   "mimetype": "text/x-python",
   "name": "python",
   "nbconvert_exporter": "python",
   "pygments_lexer": "ipython3",
   "version": "3.9.12"
  },
  "vscode": {
   "interpreter": {
    "hash": "c0b1841c3a9ede5f0df38ef74fe84e5ae0b003950945172f1b507ff85d6c4a6c"
   }
  }
 },
 "nbformat": 4,
 "nbformat_minor": 1
}
